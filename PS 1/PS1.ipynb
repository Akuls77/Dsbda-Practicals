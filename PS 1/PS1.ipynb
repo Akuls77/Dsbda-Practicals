{
 "cells": [
  {
   "cell_type": "raw",
   "id": "4a047bc0-cf83-480a-9755-b4fbb70bb79e",
   "metadata": {},
   "source": [
    "Consider the “Academic performance” dataset of students (Academic_Performance_Dataset.csv) and perform the \n",
    "following operations using Python. \n",
    "a) Scan all variables for missing values and inconsistencies. If there are missing values and/or inconsistencies, use any \n",
    "of the suitable techniques to deal with them. \n",
    "b) Scan all numeric variables for outliers. If there are outliers, use any of the suitable techniques to deal with them. \n",
    "c) Apply data transformations on categorical variables to convert it into numerical variables. \n",
    "Reason and document your approach properly."
   ]
  },
  {
   "cell_type": "code",
   "execution_count": 1,
   "id": "73054f14-eec1-416f-b162-cdf048fe4dcc",
   "metadata": {},
   "outputs": [],
   "source": [
    "import pandas as pd\n",
    "import numpy as np\n",
    "import matplotlib.pyplot as plt\n",
    "import seaborn as sns"
   ]
  },
  {
   "cell_type": "code",
   "execution_count": 2,
   "id": "90889b08-f901-4b6b-8a5f-12f38190f1fd",
   "metadata": {},
   "outputs": [],
   "source": [
    "ap_df = pd.read_csv(\"Academic_Performance - Academic_Performance.csv\")"
   ]
  },
  {
   "cell_type": "code",
   "execution_count": 3,
   "id": "004d25a2-57b2-4f70-9d88-3ab9609fe13e",
   "metadata": {},
   "outputs": [
    {
     "data": {
      "text/html": [
       "<div>\n",
       "<style scoped>\n",
       "    .dataframe tbody tr th:only-of-type {\n",
       "        vertical-align: middle;\n",
       "    }\n",
       "\n",
       "    .dataframe tbody tr th {\n",
       "        vertical-align: top;\n",
       "    }\n",
       "\n",
       "    .dataframe thead th {\n",
       "        text-align: right;\n",
       "    }\n",
       "</style>\n",
       "<table border=\"1\" class=\"dataframe\">\n",
       "  <thead>\n",
       "    <tr style=\"text-align: right;\">\n",
       "      <th></th>\n",
       "      <th>STUDENT_ID</th>\n",
       "      <th>GENDER</th>\n",
       "      <th>PLACEMENT</th>\n",
       "      <th>HONOR_OPTED_OR_NOT</th>\n",
       "      <th>EDUCATION_TYPE</th>\n",
       "      <th>ACADEMIC_PROGRAM</th>\n",
       "      <th>COURSE 1 MARKS</th>\n",
       "      <th>COURSE 2 MARKS</th>\n",
       "      <th>COURSE 3 MARKS</th>\n",
       "      <th>COURSE 4 MARKS</th>\n",
       "      <th>COURSE 5 MARKS</th>\n",
       "      <th>PERCENTILE</th>\n",
       "      <th>OVEARLL_GRADE</th>\n",
       "    </tr>\n",
       "  </thead>\n",
       "  <tbody>\n",
       "    <tr>\n",
       "      <th>0</th>\n",
       "      <td>SB11201210000129</td>\n",
       "      <td>F</td>\n",
       "      <td>Yes</td>\n",
       "      <td>Yes</td>\n",
       "      <td>ACADEMIC</td>\n",
       "      <td>INDUSTRIAL ENGINEERING</td>\n",
       "      <td>71.0</td>\n",
       "      <td>93.0</td>\n",
       "      <td>71.0</td>\n",
       "      <td>93.0</td>\n",
       "      <td>79.0</td>\n",
       "      <td>91</td>\n",
       "      <td>FIRST CLASS</td>\n",
       "    </tr>\n",
       "    <tr>\n",
       "      <th>1</th>\n",
       "      <td>SB11201210000137</td>\n",
       "      <td>F</td>\n",
       "      <td>Yes</td>\n",
       "      <td>Yes</td>\n",
       "      <td>ACADEMIC</td>\n",
       "      <td>INDUSTRIAL ENGINEERING</td>\n",
       "      <td>97.0</td>\n",
       "      <td>38.0</td>\n",
       "      <td>86.0</td>\n",
       "      <td>98.0</td>\n",
       "      <td>78.0</td>\n",
       "      <td>92</td>\n",
       "      <td>THIRD CLASS</td>\n",
       "    </tr>\n",
       "    <tr>\n",
       "      <th>2</th>\n",
       "      <td>SB11201210005154</td>\n",
       "      <td>M</td>\n",
       "      <td>No</td>\n",
       "      <td>Yes</td>\n",
       "      <td>ACADEMIC</td>\n",
       "      <td>ELECTRONIC ENGINEERING</td>\n",
       "      <td>17.0</td>\n",
       "      <td>1.0</td>\n",
       "      <td>18.0</td>\n",
       "      <td>43.0</td>\n",
       "      <td>22.0</td>\n",
       "      <td>7</td>\n",
       "      <td>DISTINCTION</td>\n",
       "    </tr>\n",
       "    <tr>\n",
       "      <th>3</th>\n",
       "      <td>SB11201210007504</td>\n",
       "      <td>F</td>\n",
       "      <td>Yes</td>\n",
       "      <td>Yes</td>\n",
       "      <td>ACADEMIC</td>\n",
       "      <td>INDUSTRIAL ENGINEERING</td>\n",
       "      <td>65.0</td>\n",
       "      <td>35.0</td>\n",
       "      <td>76.0</td>\n",
       "      <td>80.0</td>\n",
       "      <td>48.0</td>\n",
       "      <td>67</td>\n",
       "      <td>FIRST CLASS</td>\n",
       "    </tr>\n",
       "    <tr>\n",
       "      <th>4</th>\n",
       "      <td>SB11201210007548</td>\n",
       "      <td>M</td>\n",
       "      <td>Yes</td>\n",
       "      <td>Yes</td>\n",
       "      <td>ACADEMIC</td>\n",
       "      <td>INDUSTRIAL ENGINEERING</td>\n",
       "      <td>94.0</td>\n",
       "      <td>94.0</td>\n",
       "      <td>98.0</td>\n",
       "      <td>100.0</td>\n",
       "      <td>71.0</td>\n",
       "      <td>98</td>\n",
       "      <td>FIRST CLASS</td>\n",
       "    </tr>\n",
       "  </tbody>\n",
       "</table>\n",
       "</div>"
      ],
      "text/plain": [
       "         STUDENT_ID GENDER PLACEMENT HONOR_OPTED_OR_NOT EDUCATION_TYPE  \\\n",
       "0  SB11201210000129      F       Yes                Yes       ACADEMIC   \n",
       "1  SB11201210000137      F       Yes                Yes       ACADEMIC   \n",
       "2  SB11201210005154      M        No                Yes       ACADEMIC   \n",
       "3  SB11201210007504      F       Yes                Yes       ACADEMIC   \n",
       "4  SB11201210007548      M       Yes                Yes       ACADEMIC   \n",
       "\n",
       "         ACADEMIC_PROGRAM  COURSE 1 MARKS  COURSE 2 MARKS  COURSE 3 MARKS  \\\n",
       "0  INDUSTRIAL ENGINEERING            71.0            93.0            71.0   \n",
       "1  INDUSTRIAL ENGINEERING            97.0            38.0            86.0   \n",
       "2  ELECTRONIC ENGINEERING            17.0             1.0            18.0   \n",
       "3  INDUSTRIAL ENGINEERING            65.0            35.0            76.0   \n",
       "4  INDUSTRIAL ENGINEERING            94.0            94.0            98.0   \n",
       "\n",
       "   COURSE 4 MARKS  COURSE 5 MARKS  PERCENTILE OVEARLL_GRADE  \n",
       "0            93.0            79.0          91   FIRST CLASS  \n",
       "1            98.0            78.0          92   THIRD CLASS  \n",
       "2            43.0            22.0           7   DISTINCTION  \n",
       "3            80.0            48.0          67   FIRST CLASS  \n",
       "4           100.0            71.0          98   FIRST CLASS  "
      ]
     },
     "execution_count": 3,
     "metadata": {},
     "output_type": "execute_result"
    }
   ],
   "source": [
    "ap_df.head()"
   ]
  },
  {
   "cell_type": "code",
   "execution_count": 4,
   "id": "f3aabe28-e4cf-41ef-98ea-1ea2d2762a4d",
   "metadata": {},
   "outputs": [
    {
     "name": "stdout",
     "output_type": "stream",
     "text": [
      "<class 'pandas.core.frame.DataFrame'>\n",
      "RangeIndex: 12411 entries, 0 to 12410\n",
      "Data columns (total 13 columns):\n",
      " #   Column              Non-Null Count  Dtype  \n",
      "---  ------              --------------  -----  \n",
      " 0   STUDENT_ID          12411 non-null  object \n",
      " 1   GENDER              12389 non-null  object \n",
      " 2   PLACEMENT           12396 non-null  object \n",
      " 3   HONOR_OPTED_OR_NOT  12397 non-null  object \n",
      " 4   EDUCATION_TYPE      12396 non-null  object \n",
      " 5   ACADEMIC_PROGRAM    12377 non-null  object \n",
      " 6   COURSE 1 MARKS      12400 non-null  float64\n",
      " 7   COURSE 2 MARKS      12403 non-null  float64\n",
      " 8   COURSE 3 MARKS      12397 non-null  float64\n",
      " 9   COURSE 4 MARKS      12397 non-null  float64\n",
      " 10  COURSE 5 MARKS      12389 non-null  float64\n",
      " 11  PERCENTILE          12411 non-null  int64  \n",
      " 12  OVEARLL_GRADE       12411 non-null  object \n",
      "dtypes: float64(5), int64(1), object(7)\n",
      "memory usage: 1.2+ MB\n"
     ]
    }
   ],
   "source": [
    "ap_df.info()"
   ]
  },
  {
   "cell_type": "code",
   "execution_count": 5,
   "id": "5634f944-4f80-47aa-bab9-4de358d43788",
   "metadata": {},
   "outputs": [
    {
     "data": {
      "text/plain": [
       "STUDENT_ID             0\n",
       "GENDER                22\n",
       "PLACEMENT             15\n",
       "HONOR_OPTED_OR_NOT    14\n",
       "EDUCATION_TYPE        15\n",
       "ACADEMIC_PROGRAM      34\n",
       "COURSE 1 MARKS        11\n",
       "COURSE 2 MARKS         8\n",
       "COURSE 3 MARKS        14\n",
       "COURSE 4 MARKS        14\n",
       "COURSE 5 MARKS        22\n",
       "PERCENTILE             0\n",
       "OVEARLL_GRADE          0\n",
       "dtype: int64"
      ]
     },
     "execution_count": 5,
     "metadata": {},
     "output_type": "execute_result"
    }
   ],
   "source": [
    "ap_df.isnull().sum()"
   ]
  },
  {
   "cell_type": "code",
   "execution_count": 6,
   "id": "baef490b-571b-4886-a1d8-4175a8dc5b2c",
   "metadata": {},
   "outputs": [],
   "source": [
    "categorical_col = ['GENDER', 'PLACEMENT', 'HONOR_OPTED_OR_NOT', 'EDUCATION_TYPE', 'ACADEMIC_PROGRAM']\n",
    "for col in categorical_col:\n",
    "    ap_df[col] = ap_df[col].fillna(ap_df[col].mode()[0])"
   ]
  },
  {
   "cell_type": "code",
   "execution_count": 7,
   "id": "c43c2cf0-9e4f-450f-8879-c58dcf84fcd6",
   "metadata": {},
   "outputs": [
    {
     "data": {
      "text/plain": [
       "STUDENT_ID             0\n",
       "GENDER                 0\n",
       "PLACEMENT              0\n",
       "HONOR_OPTED_OR_NOT     0\n",
       "EDUCATION_TYPE         0\n",
       "ACADEMIC_PROGRAM       0\n",
       "COURSE 1 MARKS        11\n",
       "COURSE 2 MARKS         8\n",
       "COURSE 3 MARKS        14\n",
       "COURSE 4 MARKS        14\n",
       "COURSE 5 MARKS        22\n",
       "PERCENTILE             0\n",
       "OVEARLL_GRADE          0\n",
       "dtype: int64"
      ]
     },
     "execution_count": 7,
     "metadata": {},
     "output_type": "execute_result"
    }
   ],
   "source": [
    "ap_df.isnull().sum()"
   ]
  },
  {
   "cell_type": "code",
   "execution_count": 8,
   "id": "665f0b1b-893b-473a-856f-2aff6d2d7c98",
   "metadata": {},
   "outputs": [],
   "source": [
    "num_col = ['COURSE 1 MARKS', 'COURSE 2 MARKS', 'COURSE 3 MARKS', 'COURSE 4 MARKS', 'COURSE 5 MARKS']\n",
    "for col in num_col:\n",
    "    ap_df[col] = ap_df[col].fillna(ap_df[col].median())"
   ]
  },
  {
   "cell_type": "code",
   "execution_count": 9,
   "id": "46fb93d6-2d60-4949-abea-0d1e66f7d77c",
   "metadata": {},
   "outputs": [
    {
     "data": {
      "text/plain": [
       "STUDENT_ID            0\n",
       "GENDER                0\n",
       "PLACEMENT             0\n",
       "HONOR_OPTED_OR_NOT    0\n",
       "EDUCATION_TYPE        0\n",
       "ACADEMIC_PROGRAM      0\n",
       "COURSE 1 MARKS        0\n",
       "COURSE 2 MARKS        0\n",
       "COURSE 3 MARKS        0\n",
       "COURSE 4 MARKS        0\n",
       "COURSE 5 MARKS        0\n",
       "PERCENTILE            0\n",
       "OVEARLL_GRADE         0\n",
       "dtype: int64"
      ]
     },
     "execution_count": 9,
     "metadata": {},
     "output_type": "execute_result"
    }
   ],
   "source": [
    "ap_df.isnull().sum()"
   ]
  },
  {
   "cell_type": "code",
   "execution_count": 10,
   "id": "0c81dbde-c3e7-4f88-a448-f4c494903c5a",
   "metadata": {},
   "outputs": [],
   "source": [
    "def detect_outlier(data):\n",
    "    outlier = []\n",
    "    data = sorted(data)\n",
    "    q1 = np.percentile(data, 25)\n",
    "    q3 = np.percentile(data, 75)\n",
    "    iqr = q3 -q1\n",
    "    print(\"Q1 is:\", q1)\n",
    "    print(\"Q3 is:\", q3)\n",
    "    print(\"IQR is:\", iqr)\n",
    "\n",
    "    lb = q1 - 1.5*iqr\n",
    "    ub = q3 + 1.5*iqr\n",
    "    for i in data:\n",
    "        if (i<lb or i>ub):\n",
    "            outlier.append(i)\n",
    "    return list(set(outlier)), lb, ub"
   ]
  },
  {
   "cell_type": "code",
   "execution_count": 12,
   "id": "cb8ca95d-993f-48a7-9920-7e94928202dc",
   "metadata": {},
   "outputs": [
    {
     "data": {
      "image/png": "[encoded data removed]",
      "text/plain": [
       "<Figure size 1200x600 with 1 Axes>"
      ]
     },
     "metadata": {},
     "output_type": "display_data"
    }
   ],
   "source": [
    "plt.figure(figsize=(12,6))\n",
    "ap_df[num_col].boxplot(rot=45, vert=False)\n",
    "plt.show()"
   ]
  },
  {
   "cell_type": "code",
   "execution_count": 13,
   "id": "e2604bce-f0e5-434e-b53f-dc2e0ffe61a8",
   "metadata": {},
   "outputs": [
    {
     "name": "stdout",
     "output_type": "stream",
     "text": [
      "Q1 is: 65.0\n",
      "Q3 is: 96.0\n",
      "IQR is: 31.0\n"
     ]
    },
    {
     "data": {
      "text/plain": [
       "([1.0,\n",
       "  2.0,\n",
       "  3.0,\n",
       "  4.0,\n",
       "  5.0,\n",
       "  6.0,\n",
       "  7.0,\n",
       "  8.0,\n",
       "  9.0,\n",
       "  10.0,\n",
       "  11.0,\n",
       "  12.0,\n",
       "  13.0,\n",
       "  14.0,\n",
       "  15.0,\n",
       "  16.0,\n",
       "  17.0,\n",
       "  18.0,\n",
       "  -1.0],\n",
       " np.float64(18.5),\n",
       " np.float64(142.5))"
      ]
     },
     "execution_count": 13,
     "metadata": {},
     "output_type": "execute_result"
    }
   ],
   "source": [
    "detect_outlier(ap_df['COURSE 1 MARKS'])"
   ]
  },
  {
   "cell_type": "code",
   "execution_count": 14,
   "id": "0e0495be-0fe0-4dbc-b45f-367ab6b144d1",
   "metadata": {},
   "outputs": [],
   "source": [
    "q1 = np.percentile(ap_df['COURSE 1 MARKS'], 25)\n",
    "q3 = np.percentile(ap_df['COURSE 1 MARKS'], 75)\n",
    "iqr = q3 -q1\n",
    "lb = q1 - 1.5*iqr\n",
    "ub = q3 + 1.5*iqr\n",
    "\n",
    "ap_df['COURSE 1 MARKS'] = ap_df['COURSE 1 MARKS'].apply(lambda x:lb if x<=lb else ub if x>=ub else x)"
   ]
  },
  {
   "cell_type": "code",
   "execution_count": 15,
   "id": "ad7bb8b1-06cc-46e9-8dcd-332c0f493ed5",
   "metadata": {},
   "outputs": [
    {
     "data": {
      "text/plain": [
       "STUDENT_ID            0\n",
       "GENDER                0\n",
       "PLACEMENT             0\n",
       "HONOR_OPTED_OR_NOT    0\n",
       "EDUCATION_TYPE        0\n",
       "ACADEMIC_PROGRAM      0\n",
       "COURSE 1 MARKS        0\n",
       "COURSE 2 MARKS        0\n",
       "COURSE 3 MARKS        0\n",
       "COURSE 4 MARKS        0\n",
       "COURSE 5 MARKS        0\n",
       "PERCENTILE            0\n",
       "OVEARLL_GRADE         0\n",
       "dtype: int64"
      ]
     },
     "execution_count": 15,
     "metadata": {},
     "output_type": "execute_result"
    }
   ],
   "source": [
    "ap_df.isnull().sum()"
   ]
  },
  {
   "cell_type": "code",
   "execution_count": 16,
   "id": "85ffff75-31f0-4e95-98cd-de5f434ad57e",
   "metadata": {},
   "outputs": [
    {
     "name": "stdout",
     "output_type": "stream",
     "text": [
      "Q1 is: 42.0\n",
      "Q3 is: 86.0\n",
      "IQR is: 44.0\n"
     ]
    },
    {
     "data": {
      "text/plain": [
       "([], np.float64(-24.0), np.float64(152.0))"
      ]
     },
     "execution_count": 16,
     "metadata": {},
     "output_type": "execute_result"
    }
   ],
   "source": [
    "detect_outlier(ap_df['COURSE 2 MARKS'])"
   ]
  },
  {
   "cell_type": "code",
   "execution_count": 17,
   "id": "5f875ee1-c600-40e8-ae37-41cb9ca7f87e",
   "metadata": {},
   "outputs": [
    {
     "name": "stdout",
     "output_type": "stream",
     "text": [
      "Q1 is: 36.0\n",
      "Q3 is: 85.0\n",
      "IQR is: 49.0\n"
     ]
    },
    {
     "data": {
      "text/plain": [
       "([], np.float64(-37.5), np.float64(158.5))"
      ]
     },
     "execution_count": 17,
     "metadata": {},
     "output_type": "execute_result"
    }
   ],
   "source": [
    "detect_outlier(ap_df['COURSE 3 MARKS'])"
   ]
  },
  {
   "cell_type": "code",
   "execution_count": 18,
   "id": "e72d51ff-1ee3-42a6-bb5f-a9a5c73beae3",
   "metadata": {},
   "outputs": [
    {
     "name": "stdout",
     "output_type": "stream",
     "text": [
      "Q1 is: 51.0\n",
      "Q3 is: 88.0\n",
      "IQR is: 37.0\n"
     ]
    },
    {
     "data": {
      "text/plain": [
       "([], np.float64(-4.5), np.float64(143.5))"
      ]
     },
     "execution_count": 18,
     "metadata": {},
     "output_type": "execute_result"
    }
   ],
   "source": [
    "detect_outlier(ap_df['COURSE 4 MARKS'])"
   ]
  },
  {
   "cell_type": "code",
   "execution_count": 19,
   "id": "dd5b33d7-645b-4b09-bd63-efbe3f3a7cba",
   "metadata": {},
   "outputs": [
    {
     "name": "stdout",
     "output_type": "stream",
     "text": [
      "Q1 is: 28.0\n",
      "Q3 is: 80.0\n",
      "IQR is: 52.0\n"
     ]
    },
    {
     "data": {
      "text/plain": [
       "([], np.float64(-50.0), np.float64(158.0))"
      ]
     },
     "execution_count": 19,
     "metadata": {},
     "output_type": "execute_result"
    }
   ],
   "source": [
    "detect_outlier(ap_df['COURSE 5 MARKS'])"
   ]
  },
  {
   "cell_type": "code",
   "execution_count": 20,
   "id": "8a793cb7-22d3-4928-ae1d-682da6e69cda",
   "metadata": {},
   "outputs": [
    {
     "name": "stdout",
     "output_type": "stream",
     "text": [
      "Q1 is: 51.0\n",
      "Q3 is: 90.0\n",
      "IQR is: 39.0\n"
     ]
    },
    {
     "data": {
      "text/plain": [
       "([], np.float64(-7.5), np.float64(148.5))"
      ]
     },
     "execution_count": 20,
     "metadata": {},
     "output_type": "execute_result"
    }
   ],
   "source": [
    "detect_outlier(ap_df['PERCENTILE'])"
   ]
  },
  {
   "cell_type": "code",
   "execution_count": 21,
   "id": "8f95fcf0-77e3-40d2-96b7-763420d700ff",
   "metadata": {},
   "outputs": [
    {
     "data": {
      "text/html": [
       "<div>\n",
       "<style scoped>\n",
       "    .dataframe tbody tr th:only-of-type {\n",
       "        vertical-align: middle;\n",
       "    }\n",
       "\n",
       "    .dataframe tbody tr th {\n",
       "        vertical-align: top;\n",
       "    }\n",
       "\n",
       "    .dataframe thead th {\n",
       "        text-align: right;\n",
       "    }\n",
       "</style>\n",
       "<table border=\"1\" class=\"dataframe\">\n",
       "  <thead>\n",
       "    <tr style=\"text-align: right;\">\n",
       "      <th></th>\n",
       "      <th>STUDENT_ID</th>\n",
       "      <th>GENDER</th>\n",
       "      <th>PLACEMENT</th>\n",
       "      <th>HONOR_OPTED_OR_NOT</th>\n",
       "      <th>EDUCATION_TYPE</th>\n",
       "      <th>ACADEMIC_PROGRAM</th>\n",
       "      <th>COURSE 1 MARKS</th>\n",
       "      <th>COURSE 2 MARKS</th>\n",
       "      <th>COURSE 3 MARKS</th>\n",
       "      <th>COURSE 4 MARKS</th>\n",
       "      <th>COURSE 5 MARKS</th>\n",
       "      <th>PERCENTILE</th>\n",
       "      <th>OVEARLL_GRADE</th>\n",
       "    </tr>\n",
       "  </thead>\n",
       "  <tbody>\n",
       "    <tr>\n",
       "      <th>0</th>\n",
       "      <td>SB11201210000129</td>\n",
       "      <td>F</td>\n",
       "      <td>Yes</td>\n",
       "      <td>Yes</td>\n",
       "      <td>ACADEMIC</td>\n",
       "      <td>INDUSTRIAL ENGINEERING</td>\n",
       "      <td>71.0</td>\n",
       "      <td>93.0</td>\n",
       "      <td>71.0</td>\n",
       "      <td>93.0</td>\n",
       "      <td>79.0</td>\n",
       "      <td>91</td>\n",
       "      <td>FIRST CLASS</td>\n",
       "    </tr>\n",
       "    <tr>\n",
       "      <th>1</th>\n",
       "      <td>SB11201210000137</td>\n",
       "      <td>F</td>\n",
       "      <td>Yes</td>\n",
       "      <td>Yes</td>\n",
       "      <td>ACADEMIC</td>\n",
       "      <td>INDUSTRIAL ENGINEERING</td>\n",
       "      <td>97.0</td>\n",
       "      <td>38.0</td>\n",
       "      <td>86.0</td>\n",
       "      <td>98.0</td>\n",
       "      <td>78.0</td>\n",
       "      <td>92</td>\n",
       "      <td>THIRD CLASS</td>\n",
       "    </tr>\n",
       "    <tr>\n",
       "      <th>2</th>\n",
       "      <td>SB11201210005154</td>\n",
       "      <td>M</td>\n",
       "      <td>No</td>\n",
       "      <td>Yes</td>\n",
       "      <td>ACADEMIC</td>\n",
       "      <td>ELECTRONIC ENGINEERING</td>\n",
       "      <td>18.5</td>\n",
       "      <td>1.0</td>\n",
       "      <td>18.0</td>\n",
       "      <td>43.0</td>\n",
       "      <td>22.0</td>\n",
       "      <td>7</td>\n",
       "      <td>DISTINCTION</td>\n",
       "    </tr>\n",
       "    <tr>\n",
       "      <th>3</th>\n",
       "      <td>SB11201210007504</td>\n",
       "      <td>F</td>\n",
       "      <td>Yes</td>\n",
       "      <td>Yes</td>\n",
       "      <td>ACADEMIC</td>\n",
       "      <td>INDUSTRIAL ENGINEERING</td>\n",
       "      <td>65.0</td>\n",
       "      <td>35.0</td>\n",
       "      <td>76.0</td>\n",
       "      <td>80.0</td>\n",
       "      <td>48.0</td>\n",
       "      <td>67</td>\n",
       "      <td>FIRST CLASS</td>\n",
       "    </tr>\n",
       "    <tr>\n",
       "      <th>4</th>\n",
       "      <td>SB11201210007548</td>\n",
       "      <td>M</td>\n",
       "      <td>Yes</td>\n",
       "      <td>Yes</td>\n",
       "      <td>ACADEMIC</td>\n",
       "      <td>INDUSTRIAL ENGINEERING</td>\n",
       "      <td>94.0</td>\n",
       "      <td>94.0</td>\n",
       "      <td>98.0</td>\n",
       "      <td>100.0</td>\n",
       "      <td>71.0</td>\n",
       "      <td>98</td>\n",
       "      <td>FIRST CLASS</td>\n",
       "    </tr>\n",
       "  </tbody>\n",
       "</table>\n",
       "</div>"
      ],
      "text/plain": [
       "         STUDENT_ID GENDER PLACEMENT HONOR_OPTED_OR_NOT EDUCATION_TYPE  \\\n",
       "0  SB11201210000129      F       Yes                Yes       ACADEMIC   \n",
       "1  SB11201210000137      F       Yes                Yes       ACADEMIC   \n",
       "2  SB11201210005154      M        No                Yes       ACADEMIC   \n",
       "3  SB11201210007504      F       Yes                Yes       ACADEMIC   \n",
       "4  SB11201210007548      M       Yes                Yes       ACADEMIC   \n",
       "\n",
       "         ACADEMIC_PROGRAM  COURSE 1 MARKS  COURSE 2 MARKS  COURSE 3 MARKS  \\\n",
       "0  INDUSTRIAL ENGINEERING            71.0            93.0            71.0   \n",
       "1  INDUSTRIAL ENGINEERING            97.0            38.0            86.0   \n",
       "2  ELECTRONIC ENGINEERING            18.5             1.0            18.0   \n",
       "3  INDUSTRIAL ENGINEERING            65.0            35.0            76.0   \n",
       "4  INDUSTRIAL ENGINEERING            94.0            94.0            98.0   \n",
       "\n",
       "   COURSE 4 MARKS  COURSE 5 MARKS  PERCENTILE OVEARLL_GRADE  \n",
       "0            93.0            79.0          91   FIRST CLASS  \n",
       "1            98.0            78.0          92   THIRD CLASS  \n",
       "2            43.0            22.0           7   DISTINCTION  \n",
       "3            80.0            48.0          67   FIRST CLASS  \n",
       "4           100.0            71.0          98   FIRST CLASS  "
      ]
     },
     "execution_count": 21,
     "metadata": {},
     "output_type": "execute_result"
    }
   ],
   "source": [
    "ap_df.head()"
   ]
  },
  {
   "cell_type": "code",
   "execution_count": 22,
   "id": "92ba29a3-74d3-4db1-8f0d-030a3b371b38",
   "metadata": {},
   "outputs": [],
   "source": [
    "from sklearn.preprocessing import LabelEncoder"
   ]
  },
  {
   "cell_type": "code",
   "execution_count": 23,
   "id": "17ea742b-d207-4627-8faa-3b239bc7f0c8",
   "metadata": {},
   "outputs": [],
   "source": [
    "le = LabelEncoder()"
   ]
  },
  {
   "cell_type": "code",
   "execution_count": 24,
   "id": "8cc4e6f6-4a89-4620-a584-cf78b2aafc89",
   "metadata": {},
   "outputs": [
    {
     "data": {
      "text/html": [
       "<div>\n",
       "<style scoped>\n",
       "    .dataframe tbody tr th:only-of-type {\n",
       "        vertical-align: middle;\n",
       "    }\n",
       "\n",
       "    .dataframe tbody tr th {\n",
       "        vertical-align: top;\n",
       "    }\n",
       "\n",
       "    .dataframe thead th {\n",
       "        text-align: right;\n",
       "    }\n",
       "</style>\n",
       "<table border=\"1\" class=\"dataframe\">\n",
       "  <thead>\n",
       "    <tr style=\"text-align: right;\">\n",
       "      <th></th>\n",
       "      <th>STUDENT_ID</th>\n",
       "      <th>GENDER</th>\n",
       "      <th>PLACEMENT</th>\n",
       "      <th>HONOR_OPTED_OR_NOT</th>\n",
       "      <th>EDUCATION_TYPE</th>\n",
       "      <th>ACADEMIC_PROGRAM</th>\n",
       "      <th>COURSE 1 MARKS</th>\n",
       "      <th>COURSE 2 MARKS</th>\n",
       "      <th>COURSE 3 MARKS</th>\n",
       "      <th>COURSE 4 MARKS</th>\n",
       "      <th>COURSE 5 MARKS</th>\n",
       "      <th>PERCENTILE</th>\n",
       "      <th>OVEARLL_GRADE</th>\n",
       "    </tr>\n",
       "  </thead>\n",
       "  <tbody>\n",
       "    <tr>\n",
       "      <th>0</th>\n",
       "      <td>SB11201210000129</td>\n",
       "      <td>F</td>\n",
       "      <td>Yes</td>\n",
       "      <td>1</td>\n",
       "      <td>ACADEMIC</td>\n",
       "      <td>INDUSTRIAL ENGINEERING</td>\n",
       "      <td>71.0</td>\n",
       "      <td>93.0</td>\n",
       "      <td>71.0</td>\n",
       "      <td>93.0</td>\n",
       "      <td>79.0</td>\n",
       "      <td>91</td>\n",
       "      <td>1</td>\n",
       "    </tr>\n",
       "    <tr>\n",
       "      <th>1</th>\n",
       "      <td>SB11201210000137</td>\n",
       "      <td>F</td>\n",
       "      <td>Yes</td>\n",
       "      <td>1</td>\n",
       "      <td>ACADEMIC</td>\n",
       "      <td>INDUSTRIAL ENGINEERING</td>\n",
       "      <td>97.0</td>\n",
       "      <td>38.0</td>\n",
       "      <td>86.0</td>\n",
       "      <td>98.0</td>\n",
       "      <td>78.0</td>\n",
       "      <td>92</td>\n",
       "      <td>3</td>\n",
       "    </tr>\n",
       "    <tr>\n",
       "      <th>2</th>\n",
       "      <td>SB11201210005154</td>\n",
       "      <td>M</td>\n",
       "      <td>No</td>\n",
       "      <td>1</td>\n",
       "      <td>ACADEMIC</td>\n",
       "      <td>ELECTRONIC ENGINEERING</td>\n",
       "      <td>18.5</td>\n",
       "      <td>1.0</td>\n",
       "      <td>18.0</td>\n",
       "      <td>43.0</td>\n",
       "      <td>22.0</td>\n",
       "      <td>7</td>\n",
       "      <td>0</td>\n",
       "    </tr>\n",
       "    <tr>\n",
       "      <th>3</th>\n",
       "      <td>SB11201210007504</td>\n",
       "      <td>F</td>\n",
       "      <td>Yes</td>\n",
       "      <td>1</td>\n",
       "      <td>ACADEMIC</td>\n",
       "      <td>INDUSTRIAL ENGINEERING</td>\n",
       "      <td>65.0</td>\n",
       "      <td>35.0</td>\n",
       "      <td>76.0</td>\n",
       "      <td>80.0</td>\n",
       "      <td>48.0</td>\n",
       "      <td>67</td>\n",
       "      <td>1</td>\n",
       "    </tr>\n",
       "    <tr>\n",
       "      <th>4</th>\n",
       "      <td>SB11201210007548</td>\n",
       "      <td>M</td>\n",
       "      <td>Yes</td>\n",
       "      <td>1</td>\n",
       "      <td>ACADEMIC</td>\n",
       "      <td>INDUSTRIAL ENGINEERING</td>\n",
       "      <td>94.0</td>\n",
       "      <td>94.0</td>\n",
       "      <td>98.0</td>\n",
       "      <td>100.0</td>\n",
       "      <td>71.0</td>\n",
       "      <td>98</td>\n",
       "      <td>1</td>\n",
       "    </tr>\n",
       "  </tbody>\n",
       "</table>\n",
       "</div>"
      ],
      "text/plain": [
       "         STUDENT_ID GENDER PLACEMENT  HONOR_OPTED_OR_NOT EDUCATION_TYPE  \\\n",
       "0  SB11201210000129      F       Yes                   1       ACADEMIC   \n",
       "1  SB11201210000137      F       Yes                   1       ACADEMIC   \n",
       "2  SB11201210005154      M        No                   1       ACADEMIC   \n",
       "3  SB11201210007504      F       Yes                   1       ACADEMIC   \n",
       "4  SB11201210007548      M       Yes                   1       ACADEMIC   \n",
       "\n",
       "         ACADEMIC_PROGRAM  COURSE 1 MARKS  COURSE 2 MARKS  COURSE 3 MARKS  \\\n",
       "0  INDUSTRIAL ENGINEERING            71.0            93.0            71.0   \n",
       "1  INDUSTRIAL ENGINEERING            97.0            38.0            86.0   \n",
       "2  ELECTRONIC ENGINEERING            18.5             1.0            18.0   \n",
       "3  INDUSTRIAL ENGINEERING            65.0            35.0            76.0   \n",
       "4  INDUSTRIAL ENGINEERING            94.0            94.0            98.0   \n",
       "\n",
       "   COURSE 4 MARKS  COURSE 5 MARKS  PERCENTILE  OVEARLL_GRADE  \n",
       "0            93.0            79.0          91              1  \n",
       "1            98.0            78.0          92              3  \n",
       "2            43.0            22.0           7              0  \n",
       "3            80.0            48.0          67              1  \n",
       "4           100.0            71.0          98              1  "
      ]
     },
     "execution_count": 24,
     "metadata": {},
     "output_type": "execute_result"
    }
   ],
   "source": [
    "ap_df['OVEARLL_GRADE'] = le.fit_transform(ap_df['OVEARLL_GRADE'])\n",
    "ap_df['HONOR_OPTED_OR_NOT'] = le.fit_transform(ap_df['HONOR_OPTED_OR_NOT'])\n",
    "ap_df.head()"
   ]
  },
  {
   "cell_type": "code",
   "execution_count": 25,
   "id": "8ca502f2-a5fc-47d7-a632-5b5d797fc2ad",
   "metadata": {},
   "outputs": [],
   "source": [
    "# One-Hot Encoding\n",
    "ap_df = pd.get_dummies(ap_df, columns=['GENDER'], drop_first=True)"
   ]
  },
  {
   "cell_type": "code",
   "execution_count": 26,
   "id": "9b0f1101-f4f4-42bb-9b94-abebe44fca48",
   "metadata": {},
   "outputs": [
    {
     "data": {
      "text/html": [
       "<div>\n",
       "<style scoped>\n",
       "    .dataframe tbody tr th:only-of-type {\n",
       "        vertical-align: middle;\n",
       "    }\n",
       "\n",
       "    .dataframe tbody tr th {\n",
       "        vertical-align: top;\n",
       "    }\n",
       "\n",
       "    .dataframe thead th {\n",
       "        text-align: right;\n",
       "    }\n",
       "</style>\n",
       "<table border=\"1\" class=\"dataframe\">\n",
       "  <thead>\n",
       "    <tr style=\"text-align: right;\">\n",
       "      <th></th>\n",
       "      <th>STUDENT_ID</th>\n",
       "      <th>PLACEMENT</th>\n",
       "      <th>HONOR_OPTED_OR_NOT</th>\n",
       "      <th>EDUCATION_TYPE</th>\n",
       "      <th>ACADEMIC_PROGRAM</th>\n",
       "      <th>COURSE 1 MARKS</th>\n",
       "      <th>COURSE 2 MARKS</th>\n",
       "      <th>COURSE 3 MARKS</th>\n",
       "      <th>COURSE 4 MARKS</th>\n",
       "      <th>COURSE 5 MARKS</th>\n",
       "      <th>PERCENTILE</th>\n",
       "      <th>OVEARLL_GRADE</th>\n",
       "      <th>GENDER_M</th>\n",
       "    </tr>\n",
       "  </thead>\n",
       "  <tbody>\n",
       "    <tr>\n",
       "      <th>0</th>\n",
       "      <td>SB11201210000129</td>\n",
       "      <td>Yes</td>\n",
       "      <td>1</td>\n",
       "      <td>ACADEMIC</td>\n",
       "      <td>INDUSTRIAL ENGINEERING</td>\n",
       "      <td>71.0</td>\n",
       "      <td>93.0</td>\n",
       "      <td>71.0</td>\n",
       "      <td>93.0</td>\n",
       "      <td>79.0</td>\n",
       "      <td>91</td>\n",
       "      <td>1</td>\n",
       "      <td>False</td>\n",
       "    </tr>\n",
       "    <tr>\n",
       "      <th>1</th>\n",
       "      <td>SB11201210000137</td>\n",
       "      <td>Yes</td>\n",
       "      <td>1</td>\n",
       "      <td>ACADEMIC</td>\n",
       "      <td>INDUSTRIAL ENGINEERING</td>\n",
       "      <td>97.0</td>\n",
       "      <td>38.0</td>\n",
       "      <td>86.0</td>\n",
       "      <td>98.0</td>\n",
       "      <td>78.0</td>\n",
       "      <td>92</td>\n",
       "      <td>3</td>\n",
       "      <td>False</td>\n",
       "    </tr>\n",
       "    <tr>\n",
       "      <th>2</th>\n",
       "      <td>SB11201210005154</td>\n",
       "      <td>No</td>\n",
       "      <td>1</td>\n",
       "      <td>ACADEMIC</td>\n",
       "      <td>ELECTRONIC ENGINEERING</td>\n",
       "      <td>18.5</td>\n",
       "      <td>1.0</td>\n",
       "      <td>18.0</td>\n",
       "      <td>43.0</td>\n",
       "      <td>22.0</td>\n",
       "      <td>7</td>\n",
       "      <td>0</td>\n",
       "      <td>True</td>\n",
       "    </tr>\n",
       "    <tr>\n",
       "      <th>3</th>\n",
       "      <td>SB11201210007504</td>\n",
       "      <td>Yes</td>\n",
       "      <td>1</td>\n",
       "      <td>ACADEMIC</td>\n",
       "      <td>INDUSTRIAL ENGINEERING</td>\n",
       "      <td>65.0</td>\n",
       "      <td>35.0</td>\n",
       "      <td>76.0</td>\n",
       "      <td>80.0</td>\n",
       "      <td>48.0</td>\n",
       "      <td>67</td>\n",
       "      <td>1</td>\n",
       "      <td>False</td>\n",
       "    </tr>\n",
       "    <tr>\n",
       "      <th>4</th>\n",
       "      <td>SB11201210007548</td>\n",
       "      <td>Yes</td>\n",
       "      <td>1</td>\n",
       "      <td>ACADEMIC</td>\n",
       "      <td>INDUSTRIAL ENGINEERING</td>\n",
       "      <td>94.0</td>\n",
       "      <td>94.0</td>\n",
       "      <td>98.0</td>\n",
       "      <td>100.0</td>\n",
       "      <td>71.0</td>\n",
       "      <td>98</td>\n",
       "      <td>1</td>\n",
       "      <td>True</td>\n",
       "    </tr>\n",
       "  </tbody>\n",
       "</table>\n",
       "</div>"
      ],
      "text/plain": [
       "         STUDENT_ID PLACEMENT  HONOR_OPTED_OR_NOT EDUCATION_TYPE  \\\n",
       "0  SB11201210000129       Yes                   1       ACADEMIC   \n",
       "1  SB11201210000137       Yes                   1       ACADEMIC   \n",
       "2  SB11201210005154        No                   1       ACADEMIC   \n",
       "3  SB11201210007504       Yes                   1       ACADEMIC   \n",
       "4  SB11201210007548       Yes                   1       ACADEMIC   \n",
       "\n",
       "         ACADEMIC_PROGRAM  COURSE 1 MARKS  COURSE 2 MARKS  COURSE 3 MARKS  \\\n",
       "0  INDUSTRIAL ENGINEERING            71.0            93.0            71.0   \n",
       "1  INDUSTRIAL ENGINEERING            97.0            38.0            86.0   \n",
       "2  ELECTRONIC ENGINEERING            18.5             1.0            18.0   \n",
       "3  INDUSTRIAL ENGINEERING            65.0            35.0            76.0   \n",
       "4  INDUSTRIAL ENGINEERING            94.0            94.0            98.0   \n",
       "\n",
       "   COURSE 4 MARKS  COURSE 5 MARKS  PERCENTILE  OVEARLL_GRADE  GENDER_M  \n",
       "0            93.0            79.0          91              1     False  \n",
       "1            98.0            78.0          92              3     False  \n",
       "2            43.0            22.0           7              0      True  \n",
       "3            80.0            48.0          67              1     False  \n",
       "4           100.0            71.0          98              1      True  "
      ]
     },
     "execution_count": 26,
     "metadata": {},
     "output_type": "execute_result"
    }
   ],
   "source": [
    "ap_df.head()"
   ]
  }
 ],
 "metadata": {
  "kernelspec": {
   "display_name": "Python 3 (ipykernel)",
   "language": "python",
   "name": "python3"
  },
  "language_info": {
   "codemirror_mode": {
    "name": "ipython",
    "version": 3
   },
   "file_extension": ".py",
   "mimetype": "text/x-python",
   "name": "python",
   "nbconvert_exporter": "python",
   "pygments_lexer": "ipython3",
   "version": "3.10.16"
  },
  "widgets": {
   "application/vnd.jupyter.widget-state+json": {
    "state": {},
    "version_major": 2,
    "version_minor": 0
   }
  }
 },
 "nbformat": 4,
 "nbformat_minor": 5
}
